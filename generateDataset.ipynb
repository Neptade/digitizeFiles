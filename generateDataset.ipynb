{
 "cells": [
  {
   "cell_type": "code",
   "execution_count": 1,
   "metadata": {},
   "outputs": [],
   "source": [
    "from os import walk\n",
    "import pandas as pd\n",
    "import numpy as np"
   ]
  },
  {
   "cell_type": "code",
   "execution_count": null,
   "metadata": {},
   "outputs": [],
   "source": [
    "class employeeFile():\n",
    "    def __init__(self):\n",
    "        self.fileType\n",
    "        \n",
    "    \n",
    "    "
   ]
  },
  {
   "cell_type": "code",
   "execution_count": 2,
   "metadata": {},
   "outputs": [],
   "source": [
    "rawContentDf = pd.DataFrame(columns=['firstName', 'lastName','files'])"
   ]
  },
  {
   "cell_type": "code",
   "execution_count": 3,
   "metadata": {},
   "outputs": [],
   "source": [
    "content = walk(\"active\")\n",
    "for root, dirs, files in content:\n",
    "    dirHirarchy = root.split('\\\\')\n",
    "    if len(dirHirarchy) == 3 : \n",
    "        fullName = dirHirarchy[1].split(', ')\n",
    "        firstName = fullName[1]\n",
    "        lastName = fullName[0]\n",
    "        \n",
    "        currentContent = pd.DataFrame({'firstName': firstName, 'lastName': lastName, 'files': [files]}, columns=['firstName', 'lastName', 'files'])\n",
    "        rawContentDf = pd.concat([rawContentDf,currentContent], ignore_index=True)"
   ]
  },
  {
   "cell_type": "code",
   "execution_count": 4,
   "metadata": {},
   "outputs": [
    {
     "data": {
      "text/html": [
       "<div>\n",
       "<style scoped>\n",
       "    .dataframe tbody tr th:only-of-type {\n",
       "        vertical-align: middle;\n",
       "    }\n",
       "\n",
       "    .dataframe tbody tr th {\n",
       "        vertical-align: top;\n",
       "    }\n",
       "\n",
       "    .dataframe thead th {\n",
       "        text-align: right;\n",
       "    }\n",
       "</style>\n",
       "<table border=\"1\" class=\"dataframe\">\n",
       "  <thead>\n",
       "    <tr style=\"text-align: right;\">\n",
       "      <th></th>\n",
       "      <th>firstName</th>\n",
       "      <th>lastName</th>\n",
       "      <th>files</th>\n",
       "    </tr>\n",
       "  </thead>\n",
       "  <tbody>\n",
       "    <tr>\n",
       "      <th>0</th>\n",
       "      <td>firstname1</td>\n",
       "      <td>Lastname1</td>\n",
       "      <td>[medTest2020.pdf, otherMedTest2021.pdf]</td>\n",
       "    </tr>\n",
       "    <tr>\n",
       "      <th>1</th>\n",
       "      <td>firstname1</td>\n",
       "      <td>Lastname1</td>\n",
       "      <td>[documentation2020.pdf, info2022.pdf, test2023...</td>\n",
       "    </tr>\n",
       "    <tr>\n",
       "      <th>2</th>\n",
       "      <td>firstname2</td>\n",
       "      <td>Lastname2</td>\n",
       "      <td>[medTest2020.pdf, otherMedTest2021.pdf]</td>\n",
       "    </tr>\n",
       "    <tr>\n",
       "      <th>3</th>\n",
       "      <td>firstname2</td>\n",
       "      <td>Lastname2</td>\n",
       "      <td>[documentation2020.pdf, info2022.pdf, test2023...</td>\n",
       "    </tr>\n",
       "  </tbody>\n",
       "</table>\n",
       "</div>"
      ],
      "text/plain": [
       "    firstName   lastName                                              files\n",
       "0  firstname1  Lastname1            [medTest2020.pdf, otherMedTest2021.pdf]\n",
       "1  firstname1  Lastname1  [documentation2020.pdf, info2022.pdf, test2023...\n",
       "2  firstname2  Lastname2            [medTest2020.pdf, otherMedTest2021.pdf]\n",
       "3  firstname2  Lastname2  [documentation2020.pdf, info2022.pdf, test2023..."
      ]
     },
     "execution_count": 4,
     "metadata": {},
     "output_type": "execute_result"
    }
   ],
   "source": [
    "rawContentDf"
   ]
  },
  {
   "cell_type": "code",
   "execution_count": 5,
   "metadata": {},
   "outputs": [
    {
     "data": {
      "text/html": [
       "<div>\n",
       "<style scoped>\n",
       "    .dataframe tbody tr th:only-of-type {\n",
       "        vertical-align: middle;\n",
       "    }\n",
       "\n",
       "    .dataframe tbody tr th {\n",
       "        vertical-align: top;\n",
       "    }\n",
       "\n",
       "    .dataframe thead th {\n",
       "        text-align: right;\n",
       "    }\n",
       "</style>\n",
       "<table border=\"1\" class=\"dataframe\">\n",
       "  <thead>\n",
       "    <tr style=\"text-align: right;\">\n",
       "      <th></th>\n",
       "      <th>firstName</th>\n",
       "      <th>lastName</th>\n",
       "      <th>files</th>\n",
       "    </tr>\n",
       "  </thead>\n",
       "  <tbody>\n",
       "    <tr>\n",
       "      <th>0</th>\n",
       "      <td>firstname1</td>\n",
       "      <td>Lastname1</td>\n",
       "      <td>[medTest2020.pdf, otherMedTest2021.pdf, docume...</td>\n",
       "    </tr>\n",
       "    <tr>\n",
       "      <th>1</th>\n",
       "      <td>firstname2</td>\n",
       "      <td>Lastname2</td>\n",
       "      <td>[medTest2020.pdf, otherMedTest2021.pdf, docume...</td>\n",
       "    </tr>\n",
       "  </tbody>\n",
       "</table>\n",
       "</div>"
      ],
      "text/plain": [
       "    firstName   lastName                                              files\n",
       "0  firstname1  Lastname1  [medTest2020.pdf, otherMedTest2021.pdf, docume...\n",
       "1  firstname2  Lastname2  [medTest2020.pdf, otherMedTest2021.pdf, docume..."
      ]
     },
     "execution_count": 5,
     "metadata": {},
     "output_type": "execute_result"
    }
   ],
   "source": [
    "rawContentDf.groupby(['firstName', 'lastName']).agg({'files': lambda x: list(np.concatenate(x.to_numpy()))}).reset_index()"
   ]
  }
 ],
 "metadata": {
  "kernelspec": {
   "display_name": "Python 3",
   "language": "python",
   "name": "python3"
  },
  "language_info": {
   "codemirror_mode": {
    "name": "ipython",
    "version": 3
   },
   "file_extension": ".py",
   "mimetype": "text/x-python",
   "name": "python",
   "nbconvert_exporter": "python",
   "pygments_lexer": "ipython3",
   "version": "3.11.2"
  }
 },
 "nbformat": 4,
 "nbformat_minor": 2
}
