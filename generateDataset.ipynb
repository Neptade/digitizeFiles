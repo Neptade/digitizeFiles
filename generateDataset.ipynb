{
 "cells": [
  {
   "cell_type": "code",
   "execution_count": 1,
   "metadata": {},
   "outputs": [],
   "source": [
    "from os import walk\n",
    "import pandas as pd\n",
    "import numpy as np\n",
    "from openpyxl import load_workbook\n",
    "from openpyxl.utils import get_column_letter\n",
    "from openpyxl.styles import Font\n",
    "from openpyxl.worksheet.table import Table, TableStyleInfo"
   ]
  },
  {
   "cell_type": "code",
   "execution_count": 2,
   "metadata": {},
   "outputs": [],
   "source": [
    "class employeeFile():\n",
    "    def __init__(self):\n",
    "        self.fileType\n",
    "        self.fileDate\n",
    "        self.filePath\n",
    "    \n",
    "    # def     \n",
    "    \n",
    "    "
   ]
  },
  {
   "cell_type": "code",
   "execution_count": 3,
   "metadata": {},
   "outputs": [],
   "source": [
    "rawContentDf = pd.DataFrame(columns=['firstName', 'lastName','root','files'])"
   ]
  },
  {
   "cell_type": "code",
   "execution_count": 4,
   "metadata": {},
   "outputs": [],
   "source": [
    "content = walk(\"active\")\n",
    "for root, dirs, files in content:\n",
    "    dirHirarchy = root.split('\\\\')\n",
    "    if len(dirHirarchy) == 3 : \n",
    "        fullName = dirHirarchy[1].split(', ')\n",
    "        firstName = fullName[1]\n",
    "        lastName = fullName[0]\n",
    "        \n",
    "        currentContent = pd.DataFrame({'firstName': firstName, 'lastName': lastName, 'root' : root, 'files': [files]}, columns=['firstName', 'lastName','root', 'files'])\n",
    "        rawContentDf = pd.concat([rawContentDf,currentContent], ignore_index=True)"
   ]
  },
  {
   "cell_type": "code",
   "execution_count": 5,
   "metadata": {},
   "outputs": [
    {
     "data": {
      "text/html": [
       "<div>\n",
       "<style scoped>\n",
       "    .dataframe tbody tr th:only-of-type {\n",
       "        vertical-align: middle;\n",
       "    }\n",
       "\n",
       "    .dataframe tbody tr th {\n",
       "        vertical-align: top;\n",
       "    }\n",
       "\n",
       "    .dataframe thead th {\n",
       "        text-align: right;\n",
       "    }\n",
       "</style>\n",
       "<table border=\"1\" class=\"dataframe\">\n",
       "  <thead>\n",
       "    <tr style=\"text-align: right;\">\n",
       "      <th></th>\n",
       "      <th>firstName</th>\n",
       "      <th>lastName</th>\n",
       "      <th>root</th>\n",
       "      <th>files</th>\n",
       "    </tr>\n",
       "  </thead>\n",
       "  <tbody>\n",
       "    <tr>\n",
       "      <th>0</th>\n",
       "      <td>firstname1</td>\n",
       "      <td>Lastname1</td>\n",
       "      <td>active\\Lastname1, firstname1\\Blue</td>\n",
       "      <td>[medTest2020.pdf, otherMedTest2021.pdf]</td>\n",
       "    </tr>\n",
       "    <tr>\n",
       "      <th>1</th>\n",
       "      <td>firstname1</td>\n",
       "      <td>Lastname1</td>\n",
       "      <td>active\\Lastname1, firstname1\\White</td>\n",
       "      <td>[documentation2020.pdf, info2022.pdf, test2023...</td>\n",
       "    </tr>\n",
       "    <tr>\n",
       "      <th>2</th>\n",
       "      <td>firstname2</td>\n",
       "      <td>Lastname2</td>\n",
       "      <td>active\\Lastname2, firstname2\\Blue</td>\n",
       "      <td>[medTest2020.pdf, otherMedTest2021.pdf]</td>\n",
       "    </tr>\n",
       "    <tr>\n",
       "      <th>3</th>\n",
       "      <td>firstname2</td>\n",
       "      <td>Lastname2</td>\n",
       "      <td>active\\Lastname2, firstname2\\White</td>\n",
       "      <td>[documentation2020.pdf, info2022.pdf, test2023...</td>\n",
       "    </tr>\n",
       "    <tr>\n",
       "      <th>4</th>\n",
       "      <td>firstname3</td>\n",
       "      <td>Lastname3</td>\n",
       "      <td>active\\Lastname3, firstname3\\Blue</td>\n",
       "      <td>[medTest2020.pdf, otherMedTest2021.pdf]</td>\n",
       "    </tr>\n",
       "    <tr>\n",
       "      <th>5</th>\n",
       "      <td>firstname3</td>\n",
       "      <td>Lastname3</td>\n",
       "      <td>active\\Lastname3, firstname3\\White</td>\n",
       "      <td>[documentation2020.pdf, info2022.pdf, test2023...</td>\n",
       "    </tr>\n",
       "  </tbody>\n",
       "</table>\n",
       "</div>"
      ],
      "text/plain": [
       "    firstName   lastName                                root  \\\n",
       "0  firstname1  Lastname1   active\\Lastname1, firstname1\\Blue   \n",
       "1  firstname1  Lastname1  active\\Lastname1, firstname1\\White   \n",
       "2  firstname2  Lastname2   active\\Lastname2, firstname2\\Blue   \n",
       "3  firstname2  Lastname2  active\\Lastname2, firstname2\\White   \n",
       "4  firstname3  Lastname3   active\\Lastname3, firstname3\\Blue   \n",
       "5  firstname3  Lastname3  active\\Lastname3, firstname3\\White   \n",
       "\n",
       "                                               files  \n",
       "0            [medTest2020.pdf, otherMedTest2021.pdf]  \n",
       "1  [documentation2020.pdf, info2022.pdf, test2023...  \n",
       "2            [medTest2020.pdf, otherMedTest2021.pdf]  \n",
       "3  [documentation2020.pdf, info2022.pdf, test2023...  \n",
       "4            [medTest2020.pdf, otherMedTest2021.pdf]  \n",
       "5  [documentation2020.pdf, info2022.pdf, test2023...  "
      ]
     },
     "execution_count": 5,
     "metadata": {},
     "output_type": "execute_result"
    }
   ],
   "source": [
    "rawContentDf"
   ]
  },
  {
   "cell_type": "code",
   "execution_count": 6,
   "metadata": {},
   "outputs": [],
   "source": [
    "\n",
    "# rawContentDf.groupby(['firstName', 'lastName']).agg({'root': lambda x: x})#.to_csv('output.csv')"
   ]
  },
  {
   "cell_type": "code",
   "execution_count": 11,
   "metadata": {},
   "outputs": [],
   "source": [
    "excel_path = 'filesRecap.xlsx'\n",
    "\n",
    "rawContentDf.groupby(['firstName', 'lastName']).agg({'files': lambda x: list(np.concatenate(x.to_numpy())), 'root': lambda x: x.iloc[0]}).to_excel(excel_path)\n",
    "\n",
    "wb = load_workbook(excel_path)\n",
    "ws = wb.active\n",
    "\n",
    "# Step 3: Loop over the rows and add hyperlinks in the third column (C)\n",
    "for row in range(2, ws.max_row + 1):  # Start from row 2 (because row 1 is the header)\n",
    "    file_path = ws[f'D{row}'].value  # File path is in column D\n",
    "    link_description = ws[f'C{row}'].value  # The existing text in column C (Description)\n",
    "    \n",
    "    # Create the hyperlink and set it in column C\n",
    "    ws[f'C{row}'].hyperlink = file_path\n",
    "    ws[f'C{row}'].value = link_description  # Display text (can also be file_path if you prefer)\n",
    "    ws[f'C{row}'].font = Font(color=\"0000FF\", underline=\"single\")  # Style the hyperlink text (blue and underlined)\n",
    "\n",
    "# Step 4: Create an Excel table object\n",
    "table_range = f\"A1:D{ws.max_row}\" #columns are hard coded \n",
    "table = Table(displayName=\"FilesTable\", ref=table_range)\n",
    "\n",
    "style = TableStyleInfo(\n",
    "    name=\"TableStyleMedium9\",  # A pre-built Excel table style\n",
    "    showFirstColumn=False,\n",
    "    showLastColumn=False,\n",
    "    showRowStripes=True,\n",
    "    showColumnStripes=True\n",
    ")\n",
    "table.tableStyleInfo = style\n",
    "\n",
    "ws.add_table(table)\n",
    "\n",
    "# Step 5: Save the workbook\n",
    "wb.save(excel_path)"
   ]
  }
 ],
 "metadata": {
  "kernelspec": {
   "display_name": "Python 3",
   "language": "python",
   "name": "python3"
  },
  "language_info": {
   "codemirror_mode": {
    "name": "ipython",
    "version": 3
   },
   "file_extension": ".py",
   "mimetype": "text/x-python",
   "name": "python",
   "nbconvert_exporter": "python",
   "pygments_lexer": "ipython3",
   "version": "3.11.2"
  }
 },
 "nbformat": 4,
 "nbformat_minor": 2
}
